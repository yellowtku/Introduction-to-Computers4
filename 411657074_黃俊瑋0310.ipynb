{
  "cells": [
    {
      "cell_type": "markdown",
      "metadata": {
        "id": "view-in-github",
        "colab_type": "text"
      },
      "source": [
        "<a href=\"https://colab.research.google.com/github/yellowtku/Introduction-to-Computers4/blob/main/411657074_%E9%BB%83%E4%BF%8A%E7%91%8B0310.ipynb\" target=\"_parent\"><img src=\"https://colab.research.google.com/assets/colab-badge.svg\" alt=\"Open In Colab\"/></a>"
      ]
    },
    {
      "cell_type": "markdown",
      "metadata": {
        "id": "Ki_37DgQmaaM"
      },
      "source": [
        "**2023/03/10實習課作業**"
      ]
    },
    {
      "cell_type": "markdown",
      "metadata": {
        "id": "Ce6nKFp7nui_"
      },
      "source": [
        "Q1:請嘗試寫出一個成績計算機，利用所學的input指令，讓使用者自行輸入國文與英文的分數後後，計算並輸出他的總分。\n",
        "**(變數命名可自行定義)**"
      ]
    },
    {
      "cell_type": "code",
      "execution_count": 3,
      "metadata": {
        "colab": {
          "base_uri": "https://localhost:8080/"
        },
        "id": "zlAOzhhzmVwq",
        "outputId": "b5e97376-3626-4d37-b79b-98b4b4165c1a"
      },
      "outputs": [
        {
          "output_type": "stream",
          "name": "stdout",
          "text": [
            "請輸入國文成績:90\n",
            "請輸入英文成績:100\n",
            "您的總分為190\n"
          ]
        }
      ],
      "source": [
        "'''\n",
        "第一題:總分計算機\n",
        "公式: 成績 = 國文分數 + 英文分數\n",
        "'''\n",
        "#提示使用者輸入國文成績，並轉成int整數型態來方便運算\n",
        "chi=int(input(\"請輸入國文成績:\"))\n",
        "#提示使用者輸入英文成績，並轉成int整數型態來方便運算\n",
        "eng=int(input(\"請輸入英文成績:\"))\n",
        "#計算總分(int+int)\n",
        "total=chi+eng\n",
        "#使用格式化輸出分數\n",
        "print(\"您的總分為%3d\" % total)"
      ]
    },
    {
      "cell_type": "markdown",
      "metadata": {
        "id": "fjqmpVGvmfM1"
      },
      "source": [
        "Q2:請嘗試寫出一個BMI計算機，利用所學的input指令，讓使用者自行輸入身高(cm)與體重(kg)後，計算並輸出他的BMI值至小數後2位。\n",
        "**(變數命名可自行定義)**"
      ]
    },
    {
      "cell_type": "code",
      "execution_count": 4,
      "metadata": {
        "colab": {
          "base_uri": "https://localhost:8080/"
        },
        "id": "7pAz6z1Om77M",
        "outputId": "f1962406-edfe-44c1-b28c-1239315c94e5"
      },
      "outputs": [
        {
          "output_type": "stream",
          "name": "stdout",
          "text": [
            "請輸入您的身高（cm):170\n",
            "請輸入您的體重（kg):60\n",
            "BMI為:                       20.761246\n"
          ]
        }
      ],
      "source": [
        "'''\n",
        "第二題:BMI計算機\n",
        "公式: BMI = 體重(kg) / 身高(m)平方\n",
        "'''\n",
        "#提示使用者輸入身高，單位為公分(cm)，並轉成int整數型態來方便運算\n",
        "height_cm=int(input(\"請輸入您的身高（cm):\"))\n",
        "#提示使用者輸入體重，單位為公斤(kg)，並轉成int整數型態來方便運算\n",
        "weight=int(input(\"請輸入您的體重（kg):\"))\n",
        "#將使用者輸入的身高單位公分(cm)，轉成公尺(m)\n",
        "height_m=height_cm/100\n",
        "#套入BMI公式\n",
        "bmi=weight/height_m**2\n",
        "#使用格式化印出小數點後2位\n",
        "print(\"BMI為:%32f\"%bmi)"
      ]
    }
  ],
  "metadata": {
    "accelerator": "GPU",
    "colab": {
      "provenance": [],
      "include_colab_link": true
    },
    "gpuClass": "standard",
    "kernelspec": {
      "display_name": "Python 3",
      "name": "python3"
    },
    "language_info": {
      "name": "python"
    }
  },
  "nbformat": 4,
  "nbformat_minor": 0
}